{
 "cells": [
  {
   "cell_type": "code",
   "execution_count": null,
   "id": "8b1b68fd",
   "metadata": {},
   "outputs": [],
   "source": [
    "%load_ext autoreload\n",
    "%autoreload 2"
   ]
  },
  {
   "cell_type": "code",
   "execution_count": null,
   "id": "8a2ab2f9",
   "metadata": {},
   "outputs": [],
   "source": [
    "import os\n",
    "import pandas as pd\n",
    "\n",
    "from load_dataset import convert_ct_xray"
   ]
  },
  {
   "cell_type": "code",
   "execution_count": null,
   "id": "739aeb0a",
   "metadata": {},
   "outputs": [],
   "source": [
    "csv_path = \"meta.csv\"\n",
    "dataset_path = \"segmentator\"\n",
    "output_directory = \"../training/all_full/\""
   ]
  },
  {
   "cell_type": "code",
   "execution_count": null,
   "id": "81a119ca",
   "metadata": {},
   "outputs": [],
   "source": [
    "df = pd.read_csv(csv_path, sep=\";\")\n",
    "scans = df[df.apply(lambda row: row.astype(str).str.contains(\"thorax|abdomen\", case=False).any(), axis=1)]\n",
    "scan_ids = scans[\"image_id\"].tolist()\n",
    "\n",
    "print(f\"{len(scan_ids)} scans containing 'Thorax or Abdomen'\")"
   ]
  },
  {
   "cell_type": "code",
   "execution_count": null,
   "id": "ffa7f115",
   "metadata": {},
   "outputs": [],
   "source": [
    "for folder in scan_ids:\n",
    "    sub_output_directory = os.path.join(output_directory, folder)\n",
    "    if not os.path.exists(sub_output_directory):\n",
    "        os.makedirs(sub_output_directory)\n",
    "        \n",
    "    ct_directory = os.path.join(dataset_path, folder)\n",
    "    convert_ct_xray(ct_directory, sub_output_directory)\n",
    "    \n",
    "    print(f\"Converted {folder} to x-ray format.\")"
   ]
  },
  {
   "cell_type": "code",
   "execution_count": null,
   "id": "6ce40194",
   "metadata": {},
   "outputs": [],
   "source": []
  }
 ],
 "metadata": {
  "kernelspec": {
   "display_name": "base",
   "language": "python",
   "name": "python3"
  },
  "language_info": {
   "codemirror_mode": {
    "name": "ipython",
    "version": 3
   },
   "file_extension": ".py",
   "mimetype": "text/x-python",
   "name": "python",
   "nbconvert_exporter": "python",
   "pygments_lexer": "ipython3",
   "version": "3.12.7"
  }
 },
 "nbformat": 4,
 "nbformat_minor": 5
}
